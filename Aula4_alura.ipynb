{
  "nbformat": 4,
  "nbformat_minor": 0,
  "metadata": {
    "colab": {
      "provenance": [],
      "authorship_tag": "ABX9TyPHpwEjNvIYNgPTjRi38jKl",
      "include_colab_link": true
    },
    "kernelspec": {
      "name": "python3",
      "display_name": "Python 3"
    },
    "language_info": {
      "name": "python"
    }
  },
  "cells": [
    {
      "cell_type": "markdown",
      "metadata": {
        "id": "view-in-github",
        "colab_type": "text"
      },
      "source": [
        "<a href=\"https://colab.research.google.com/github/MaryJane-Ifunanya/chatbot-com-Gemini/blob/main/Aula4_alura.ipynb\" target=\"_parent\"><img src=\"https://colab.research.google.com/assets/colab-badge.svg\" alt=\"Open In Colab\"/></a>"
      ]
    },
    {
      "cell_type": "markdown",
      "source": [
        "#Chatbot com a gemini API no google colab"
      ],
      "metadata": {
        "id": "RHaEcempPcL3"
      }
    },
    {
      "cell_type": "code",
      "source": [
        "pip install -q -u google-generativeai"
      ],
      "metadata": {
        "colab": {
          "base_uri": "https://localhost:8080/"
        },
        "id": "H02UCq_kNIBm",
        "outputId": "9bde9e3f-1839-4354-e6de-5567cf44c4b2"
      },
      "execution_count": 30,
      "outputs": [
        {
          "output_type": "stream",
          "name": "stdout",
          "text": [
            "\n",
            "Usage:   \n",
            "  pip3 install [options] <requirement specifier> [package-index-options] ...\n",
            "  pip3 install [options] -r <requirements file> [package-index-options] ...\n",
            "  pip3 install [options] [-e] <vcs project url> ...\n",
            "  pip3 install [options] [-e] <local project path> ...\n",
            "  pip3 install [options] <archive url/path> ...\n",
            "\n",
            "no such option: -u\n"
          ]
        }
      ]
    },
    {
      "cell_type": "code",
      "source": [
        " # Import the Python SDK\n",
        "import google.generativeai as genai\n",
        "# Used to securely store your API key\n",
        "from google.colab import userdata\n",
        "GOOGLE_API_KEY=userdata.get('GOOGLE_API_KEY')\n",
        "genai.configure(api_key=GOOGLE_API_KEY)"
      ],
      "metadata": {
        "id": "c0hkXjFpy-aE"
      },
      "execution_count": null,
      "outputs": []
    },
    {
      "cell_type": "code",
      "source": [
        "for m in genai.list_models():\n",
        "  if 'generateContent' in m.supported_generation_methods:\n",
        "    print(m.name)"
      ],
      "metadata": {
        "id": "Y4Vo-2DPI4Si",
        "colab": {
          "base_uri": "https://localhost:8080/",
          "height": 139
        },
        "outputId": "0aa21a47-6495-4a4b-932a-3672ff363eee"
      },
      "execution_count": 20,
      "outputs": [
        {
          "output_type": "stream",
          "name": "stdout",
          "text": [
            "models/gemini-1.0-pro\n",
            "models/gemini-1.0-pro-001\n",
            "models/gemini-1.0-pro-latest\n",
            "models/gemini-1.0-pro-vision-latest\n",
            "models/gemini-1.5-pro-latest\n",
            "models/gemini-pro\n",
            "models/gemini-pro-vision\n"
          ]
        }
      ]
    },
    {
      "cell_type": "code",
      "source": [
        "generation_config = {\n",
        "  \"candidate _count\": 1,\n",
        "  \"tesperature\": 0.5,\n",
        "}"
      ],
      "metadata": {
        "id": "AnPE9yg3JIXx"
      },
      "execution_count": 21,
      "outputs": []
    },
    {
      "cell_type": "code",
      "source": [
        "safety_settings = {\n",
        "  \"HARASSMENT\":\"BLOCK_NONE\",\n",
        "  \"HATE\": \"BLOCK_ NONE\",\n",
        "  \"SEXUAL\": \"BLOCK NONE\",\n",
        "  \"DANGEROUS\": \"BLOCK_NONE\",\n",
        "}"
      ],
      "metadata": {
        "id": "BYLoNOjuJeuB"
      },
      "execution_count": 41,
      "outputs": []
    },
    {
      "cell_type": "code",
      "source": [
        "model = genai.GenerativeModel(model_name=\"gemini-1.0-pro\",\n",
        "                                generation_config=generation_config,\n",
        "                                safety_settings=safety_settings)"
      ],
      "metadata": {
        "id": "9erkGy7c0YtL"
      },
      "execution_count": null,
      "outputs": []
    },
    {
      "cell_type": "code",
      "source": [
        "response = model.generate_content(\"Write a story about a magic backpack.\")\n",
        "print(response.text)"
      ],
      "metadata": {
        "id": "WKbgdVuI05rL",
        "colab": {
          "base_uri": "https://localhost:8080/",
          "height": 402
        },
        "outputId": "4fc564de-654a-40f1-889a-9591657d5a1e"
      },
      "execution_count": null,
      "outputs": [
        {
          "output_type": "stream",
          "name": "stdout",
          "text": [
            "In the quaint town of Willow Creek, nestled amidst rolling hills and whispering willow trees, resided an ordinary boy named Ethan. However, fate had an extraordinary encounter in store for him.\n",
            "\n",
            "One ordinary morning, while rummaging through the attic of his grandmother's home, Ethan stumbled upon a dusty, forgotten backpack. Its leather was supple and worn, adorned with intricate carvings that seemed to shimmer with an ethereal glow. Overcome with curiosity, he unzipped it.\n",
            "\n",
            "As he peered inside, a flash of brilliant light filled the attic. Ethan stumbled backward, shielding his eyes. When the light subsided, he cautiously reached into the backpack. To his astonishment, his fingers sank into soft, ethereal nothingness.\n",
            "\n",
            "With trembling hands, Ethan pulled out a small, iridescent sphere. As he held it in his palms, he realized that it possessed an inexplicable weightlessness. Curiosity overcame him, and he squeezed the sphere gently.\n",
            "\n",
            "Suddenly, the backpack erupted in a cascade of shimmering light, enveloping Ethan in a warm embrace. The sphere in his hands grew, transforming into a portal that hummed with an otherworldly energy.\n",
            "\n",
            "With a mix of excitement and trepidation, Ethan stepped through the portal. He found himself in a realm unlike anything he had ever witnessed before. The air was alive with magic, and the sky shimmered with a rainbow of colors.\n",
            "\n",
            "As Ethan journeyed through this enchanting land, he discovered that the backpack possessed unimaginable powers. It could grant him flight, allowing him to soar above the clouds. He could call upon the elements, summoning fire and ice at his fingertips.\n",
            "\n",
            "With each step, Ethan's confidence grew. He used his newfound abilities to help those in need, vanquishing enemies and healing the sick. However, his greatest discovery came when he encountered a wise old wizard.\n",
            "\n",
            "The wizard revealed the backpack's true purpose. It was not merely a tool for adventure but a vessel of hope and endless possibilities. Its magic could only be harnessed by those who used it for the greater good.\n",
            "\n",
            "Filled with a newfound sense of purpose, Ethan returned to Willow Creek. He used his backpack's powers to bring joy and wonder to his community. He made toys fly, mended broken hearts, and spread kindness throughout the town.\n",
            "\n",
            "And so, the magic backpack that had once been forgotten became a symbol of Ethan's extraordinary journey and the belief that even the most ordinary of objects can hold the power to transform lives and inspire dreams.\n"
          ]
        }
      ]
    },
    {
      "cell_type": "code",
      "source": [
        "response2 = model.generate_content(\"Cria uma redação sobre Nigéria\")\n",
        "print(response2.text)"
      ],
      "metadata": {
        "colab": {
          "base_uri": "https://localhost:8080/",
          "height": 367
        },
        "id": "z_LXEj-8Eqdk",
        "outputId": "11766396-0a03-43ca-ed56-46899c9b482e"
      },
      "execution_count": 32,
      "outputs": [
        {
          "output_type": "stream",
          "name": "stdout",
          "text": [
            "**A Nigéria: Um Gigante Africano em Ascensão**\n",
            "\n",
            "A Nigéria, a nação mais populosa da África, é um vibrante caldeirão de culturas, história e recursos naturais. Com uma economia diversificada e uma população jovem e dinâmica, a Nigéria tem o potencial de se tornar um gigante continental e uma força global.\n",
            "\n",
            "A história da Nigéria é complexa e fascinante. A região foi outrora lar de vários reinos e impérios, incluindo o poderoso Império de Benin. No século XIX, a região foi colonizada pelos britânicos, que uniram as províncias do norte e do sul para formar a Nigéria moderna.\n",
            "\n",
            "Desde a independência em 1960, a Nigéria enfrentou desafios políticos e econômicos. O país sofreu com ditaduras militares, corrupção e conflitos étnicos e religiosos. No entanto, nas últimas décadas, a Nigéria fez progressos significativos em direção à democracia e ao desenvolvimento.\n",
            "\n",
            "A economia da Nigéria é a maior da África. O país é um importante produtor de petróleo, mas também possui uma economia diversificada com setores crescentes como agricultura, manufatura e serviços. A Nigéria tem o potencial de se tornar um centro regional de comércio e investimento.\n",
            "\n",
            "A população da Nigéria é jovem e dinâmica. Mais da metade da população tem menos de 30 anos. Esta população jovem fornece uma enorme força de trabalho e um mercado consumidor em crescimento. A Nigéria também é um líder na educação, com um sistema universitário robusto e uma taxa de alfabetização crescente.\n",
            "\n",
            "No entanto, a Nigéria ainda enfrenta desafios. A pobreza, a desigualdade e o conflito continuam sendo problemas persistentes. O país também enfrenta desafios ambientais, como poluição e desmatamento.\n",
            "\n",
            "Apesar desses desafios, a Nigéria é uma nação com um potencial imenso. Com uma economia em crescimento, uma população jovem e um governo democrático, a Nigéria está bem posicionada para se tornar um gigante africano e uma força global.\n",
            "\n",
            "É imperativo que a Nigéria continue a fazer progressos em democracia, desenvolvimento e inclusão. O país precisa abordar as causas profundas da pobreza e da desigualdade, promover a paz e a harmonia e proteger o seu ambiente.\n",
            "\n",
            "Ao enfrentar estes desafios, a Nigéria pode desbloquear todo o seu potencial e tornar-se um farol de esperança e prosperidade para África e para o mundo.\n"
          ]
        }
      ]
    },
    {
      "cell_type": "code",
      "source": [
        "chat = model.start_chat(history=[])"
      ],
      "metadata": {
        "id": "Z4ulFY5cHcDH"
      },
      "execution_count": 33,
      "outputs": []
    },
    {
      "cell_type": "code",
      "source": [
        "prompt = input(\"esperando um prompt: \")\n",
        "\n",
        "while prompt != \"fim\":\n",
        "   response = chat.send_message(prompt)\n",
        "   print(\"Resposta: \", response.text, \"\\n\")\n",
        "   prompt = input(\"esperando um prompt: \")"
      ],
      "metadata": {
        "id": "oFsy3hrxH5Kr",
        "colab": {
          "base_uri": "https://localhost:8080/",
          "height": 245
        },
        "outputId": "9dbd6a92-8368-4705-eeb4-a70ff26fe3aa"
      },
      "execution_count": 34,
      "outputs": [
        {
          "name": "stdout",
          "output_type": "stream",
          "text": [
            "esperando um prompt: qual é capital de Cabo Verde?\n",
            "Resposta:  Praia \n",
            "\n",
            "esperando um prompt: Qual é a cumida típica desse país?\n",
            "Resposta:  Cachupa\n",
            "\n",
            "A cachupa é um ensopado tradicional de Cabo Verde, considerado o prato nacional do país. É um prato farto e nutritivo, feito com milho, feijão, mandioca, batata-doce, peixe ou carne e vegetais. É normalmente servido com arroz branco. \n",
            "\n",
            "esperando um prompt: e qual é a população dessa cidade?\n",
            "Resposta:  131.602 (2018) \n",
            "\n",
            "esperando um prompt: fim\n"
          ]
        }
      ]
    },
    {
      "cell_type": "code",
      "source": [
        "chat.history"
      ],
      "metadata": {
        "colab": {
          "base_uri": "https://localhost:8080/"
        },
        "id": "B7VAd2-UOTLC",
        "outputId": "8911ac12-0720-43cd-9351-4732fc1140a4"
      },
      "execution_count": 35,
      "outputs": [
        {
          "output_type": "execute_result",
          "data": {
            "text/plain": [
              "[parts {\n",
              "   text: \"qual \\303\\251 capital de Cabo Verde?\"\n",
              " }\n",
              " role: \"user\",\n",
              " parts {\n",
              "   text: \"Praia\"\n",
              " }\n",
              " role: \"model\",\n",
              " parts {\n",
              "   text: \"Qual \\303\\251 a cumida t\\303\\255pica desse pa\\303\\255s?\"\n",
              " }\n",
              " role: \"user\",\n",
              " parts {\n",
              "   text: \"Cachupa\\n\\nA cachupa \\303\\251 um ensopado tradicional de Cabo Verde, considerado o prato nacional do pa\\303\\255s. \\303\\211 um prato farto e nutritivo, feito com milho, feij\\303\\243o, mandioca, batata-doce, peixe ou carne e vegetais. \\303\\211 normalmente servido com arroz branco.\"\n",
              " }\n",
              " role: \"model\",\n",
              " parts {\n",
              "   text: \"e qual \\303\\251 a popula\\303\\247\\303\\243o dessa cidade?\"\n",
              " }\n",
              " role: \"user\",\n",
              " parts {\n",
              "   text: \"131.602 (2018)\"\n",
              " }\n",
              " role: \"model\"]"
            ]
          },
          "metadata": {},
          "execution_count": 35
        }
      ]
    }
  ]
}